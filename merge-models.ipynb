{
 "cells": [
  {
   "cell_type": "code",
   "execution_count": 1,
   "id": "0d48e511",
   "metadata": {},
   "outputs": [
    {
     "name": "stdout",
     "output_type": "stream",
     "text": [
      "WARNING:tensorflow:From C:\\Users\\Elias\\anaconda3\\Lib\\site-packages\\keras\\src\\losses.py:2976: The name tf.losses.sparse_softmax_cross_entropy is deprecated. Please use tf.compat.v1.losses.sparse_softmax_cross_entropy instead.\n",
      "\n"
     ]
    }
   ],
   "source": [
    "from keras.models import Sequential, Model\n",
    "from keras.layers import LSTM, Dense, concatenate, Input"
   ]
  },
  {
   "cell_type": "code",
   "execution_count": 2,
   "id": "72fc56f3",
   "metadata": {},
   "outputs": [],
   "source": [
    "from tensorflow.keras.models import Sequential\n",
    "from tensorflow.keras.layers import LSTM, Dense\n",
    "from tensorflow.keras.callbacks import TensorBoard\n",
    "import os"
   ]
  },
  {
   "cell_type": "code",
   "execution_count": 3,
   "id": "9c9be971",
   "metadata": {},
   "outputs": [],
   "source": [
    "log_dir = os.path.join('Logs')\n",
    "tb_callback = TensorBoard(log_dir=log_dir)"
   ]
  },
  {
   "cell_type": "code",
   "execution_count": 9,
   "id": "8e742618",
   "metadata": {},
   "outputs": [],
   "source": [
    "model1 = Sequential()\n",
    "model1.add(LSTM(64, return_sequences=True, activation='relu', input_shape=(10, 1662)))\n",
    "model1.add(LSTM(128, return_sequences=True, activation='relu'))\n",
    "model1.add(LSTM(64, return_sequences=False, activation='relu'))\n",
    "model1.add(Dense(64, activation='relu'))\n",
    "model1.add(Dense(32, activation='relu'))\n",
    "model1.add(Dense(5, activation='softmax'))"
   ]
  },
  {
   "cell_type": "code",
   "execution_count": 10,
   "id": "08fc8541",
   "metadata": {},
   "outputs": [],
   "source": [
    "model2 = Sequential()\n",
    "model2.add(LSTM(64, return_sequences=True, activation='relu', input_shape=(10, 1662)))\n",
    "model2.add(LSTM(128, return_sequences=True, activation='relu'))\n",
    "model2.add(LSTM(64, return_sequences=False, activation='relu'))\n",
    "model2.add(Dense(64, activation='relu'))\n",
    "model2.add(Dense(32, activation='relu'))\n",
    "model2.add(Dense(5, activation='softmax'))"
   ]
  },
  {
   "cell_type": "code",
   "execution_count": 11,
   "id": "72928fab",
   "metadata": {},
   "outputs": [],
   "source": [
    "model3 = Sequential()\n",
    "model3.add(LSTM(64, return_sequences=True, activation='relu', input_shape=(10, 1662)))\n",
    "model3.add(LSTM(128, return_sequences=True, activation='relu'))\n",
    "model3.add(LSTM(64, return_sequences=False, activation='relu'))\n",
    "model3.add(Dense(64, activation='relu'))\n",
    "model3.add(Dense(32, activation='relu'))\n",
    "model3.add(Dense(10, activation='softmax'))"
   ]
  },
  {
   "cell_type": "code",
   "execution_count": 12,
   "id": "5051d819",
   "metadata": {},
   "outputs": [],
   "source": [
    "# Load the weights of the two separately trained models\n",
    "model1.load_weights('Greeting4.keras')\n",
    "model2.load_weights('Greeting6.keras')"
   ]
  },
  {
   "cell_type": "code",
   "execution_count": 13,
   "id": "9af735e3",
   "metadata": {},
   "outputs": [],
   "source": [
    "# Define input layers for each model\n",
    "input1 = Input(shape=(10, 1662))\n",
    "input2 = Input(shape=(10, 1662))"
   ]
  },
  {
   "cell_type": "code",
   "execution_count": 14,
   "id": "103e40b3",
   "metadata": {},
   "outputs": [],
   "source": [
    "# Concatenate the entire models\n",
    "output1 = model1(input1)\n",
    "output2 = model2(input2)"
   ]
  },
  {
   "cell_type": "code",
   "execution_count": 15,
   "id": "9b0a93f7",
   "metadata": {},
   "outputs": [],
   "source": [
    "# Concatenate the outputs of both models\n",
    "concatenated_output = concatenate([output1, output2])"
   ]
  },
  {
   "cell_type": "code",
   "execution_count": 16,
   "id": "8657726e",
   "metadata": {},
   "outputs": [],
   "source": [
    "# Create a new model that takes the concatenated output as input and outputs the desired result\n",
    "Greeting4_6 = Model(inputs=[input1, input2], outputs=concatenated_output)"
   ]
  },
  {
   "cell_type": "code",
   "execution_count": 18,
   "id": "c79ce9a8",
   "metadata": {},
   "outputs": [],
   "source": [
    "model3.save('GreetingM2.keras')"
   ]
  },
  {
   "cell_type": "code",
   "execution_count": 19,
   "id": "517469b8",
   "metadata": {},
   "outputs": [
    {
     "name": "stdout",
     "output_type": "stream",
     "text": [
      "WARNING:tensorflow:Compiled the loaded model, but the compiled metrics have yet to be built. `model.compile_metrics` will be empty until you train or evaluate the model.\n"
     ]
    }
   ],
   "source": [
    "model3.save('GreetingM2.h5')"
   ]
  },
  {
   "cell_type": "code",
   "execution_count": null,
   "id": "03335300",
   "metadata": {},
   "outputs": [],
   "source": [
    "# # Optionally add additional layers if needed\n",
    "# additional_dense_layer = Dense(64, activation='relu')(concatenated_output)\n",
    "# additional_output_layer = Dense(32, activation='relu')(additional_dense_layer)"
   ]
  }
 ],
 "metadata": {
  "kernelspec": {
   "display_name": "Python 3 (ipykernel)",
   "language": "python",
   "name": "python3"
  },
  "language_info": {
   "codemirror_mode": {
    "name": "ipython",
    "version": 3
   },
   "file_extension": ".py",
   "mimetype": "text/x-python",
   "name": "python",
   "nbconvert_exporter": "python",
   "pygments_lexer": "ipython3",
   "version": "3.11.5"
  }
 },
 "nbformat": 4,
 "nbformat_minor": 5
}
